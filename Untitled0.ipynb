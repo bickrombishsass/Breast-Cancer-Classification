{
  "nbformat": 4,
  "nbformat_minor": 0,
  "metadata": {
    "colab": {
      "name": "Untitled0.ipynb",
      "provenance": [],
      "collapsed_sections": [],
      "mount_file_id": "1YMUsOZoPCaEWF4cgxvtxg3W3Qlk6Q_ly",
      "authorship_tag": "ABX9TyMXYpa0OufZpt5XHYYP3BOl",
      "include_colab_link": true
    },
    "kernelspec": {
      "name": "python3",
      "display_name": "Python 3"
    }
  },
  "cells": [
    {
      "cell_type": "markdown",
      "metadata": {
        "id": "view-in-github",
        "colab_type": "text"
      },
      "source": [
        "<a href=\"https://colab.research.google.com/github/bickrombishsass/Breast-Cancer-Classification/blob/master/Untitled0.ipynb\" target=\"_parent\"><img src=\"https://colab.research.google.com/assets/colab-badge.svg\" alt=\"Open In Colab\"/></a>"
      ]
    },
    {
      "cell_type": "code",
      "metadata": {
        "id": "41cHTtHPvFIV",
        "colab_type": "code",
        "colab": {
          "base_uri": "https://localhost:8080/",
          "height": 34
        },
        "outputId": "d92ca695-8c81-4422-d167-dcef69770d78"
      },
      "source": [
        "import numpy as np\n",
        "import pandas as pd\n",
        "\n",
        "X_train=np.load('/content/drive/My Drive/Copy of X_train.npy')\n",
        "y_train=np.load('/content/drive/My Drive/Copy of Y_train.npy')\n",
        "X_test=np.load('/content/drive/My Drive/Copy of X_test.npy')/255\n",
        "y_test=pd.read_csv('/content/drive/My Drive/Copy of Y_test_format.csv')\n",
        "print(X_train.shape)\n"
      ],
      "execution_count": 2,
      "outputs": [
        {
          "output_type": "stream",
          "text": [
            "(4160, 50, 50, 3)\n"
          ],
          "name": "stdout"
        }
      ]
    },
    {
      "cell_type": "code",
      "metadata": {
        "id": "r6GHoz3-zY5J",
        "colab_type": "code",
        "colab": {
          "base_uri": "https://localhost:8080/",
          "height": 267
        },
        "outputId": "5074fd53-a80e-4b7f-8c1e-44931ccaed08"
      },
      "source": [
        "import matplotlib.pyplot as plt\n",
        "import cv2\n",
        "from PIL import Image\n",
        "\n",
        "img=X_train[91].astype(np.uint8)\n",
        "\n",
        "img = Image.fromarray(img)\n",
        "\n",
        "plt.imshow(img, cmap='gray')\n",
        "plt.show()"
      ],
      "execution_count": 3,
      "outputs": [
        {
          "output_type": "display_data",
          "data": {
            "image/png": "[encoded data removed]",
            "text/plain": [
              "<Figure size 432x288 with 1 Axes>"
            ]
          },
          "metadata": {
            "tags": [],
            "needs_background": "light"
          }
        }
      ]
    },
    {
      "cell_type": "markdown",
      "metadata": {
        "id": "jsMhjRheHWvk",
        "colab_type": "text"
      },
      "source": [
        "### Using Convolutional Neural Network, with Keras-TensorFlow"
      ]
    },
    {
      "cell_type": "code",
      "metadata": {
        "id": "c60NhcSH2X71",
        "colab_type": "code",
        "colab": {}
      },
      "source": [
        "import tensorflow as tf\n",
        "from tensorflow.keras.datasets import cifar10\n",
        "from tensorflow.keras.preprocessing.image import ImageDataGenerator\n",
        "from tensorflow.keras.models import Sequential\n",
        "from tensorflow.keras.layers import Dense, Dropout, Activation, Flatten\n",
        "from tensorflow.keras.layers import Conv2D, MaxPooling2D"
      ],
      "execution_count": 0,
      "outputs": []
    },
    {
      "cell_type": "code",
      "metadata": {
        "id": "p-LWwFEWuLv9",
        "colab_type": "code",
        "colab": {
          "base_uri": "https://localhost:8080/",
          "height": 34
        },
        "outputId": "1139cbc2-fbb4-47c5-d93e-b76ce802a5a9"
      },
      "source": [
        "y_train"
      ],
      "execution_count": 5,
      "outputs": [
        {
          "output_type": "execute_result",
          "data": {
            "text/plain": [
              "array([1, 0, 0, ..., 0, 0, 0])"
            ]
          },
          "metadata": {
            "tags": []
          },
          "execution_count": 5
        }
      ]
    },
    {
      "cell_type": "code",
      "metadata": {
        "id": "OAhmPAEcfuER",
        "colab_type": "code",
        "colab": {
          "base_uri": "https://localhost:8080/",
          "height": 134
        },
        "outputId": "41e8c585-8934-43c7-ed7e-73b2401fd901"
      },
      "source": [
        "\n",
        "y = y_train\n",
        "X = X_train/255.0\n",
        "\n",
        "model = Sequential()\n",
        "\n",
        "model.add(Conv2D(256, (3, 3), input_shape=X.shape[1:]))\n",
        "model.add(Activation('relu'))\n",
        "model.add(MaxPooling2D(pool_size=(2, 2)))\n",
        "\n",
        "model.add(Conv2D(256, (3, 3)))\n",
        "model.add(Activation('relu'))\n",
        "model.add(MaxPooling2D(pool_size=(2, 2)))\n",
        "\n",
        "model.add(Flatten())  # this converts our 3D feature maps to 1D feature vectors\n",
        "\n",
        "model.add(Dense(64))\n",
        "\n",
        "model.add(Dense(1))\n",
        "model.add(Activation('sigmoid'))\n",
        "\n",
        "model.compile(loss='binary_crossentropy',\n",
        "              optimizer='adam',\n",
        "              metrics=['accuracy'])\n",
        "\n",
        "model.fit(X, y, batch_size=32, epochs=3, validation_split=0.3)"
      ],
      "execution_count": 7,
      "outputs": [
        {
          "output_type": "stream",
          "text": [
            "Epoch 1/3\n",
            "91/91 [==============================] - 122s 1s/step - loss: 0.7494 - accuracy: 0.6061 - val_loss: 0.6104 - val_accuracy: 0.6458\n",
            "Epoch 2/3\n",
            "91/91 [==============================] - 122s 1s/step - loss: 0.5755 - accuracy: 0.7191 - val_loss: 0.5882 - val_accuracy: 0.7260\n",
            "Epoch 3/3\n",
            "91/91 [==============================] - 122s 1s/step - loss: 0.5588 - accuracy: 0.7284 - val_loss: 0.6449 - val_accuracy: 0.6338\n"
          ],
          "name": "stdout"
        },
        {
          "output_type": "execute_result",
          "data": {
            "text/plain": [
              "<tensorflow.python.keras.callbacks.History at 0x7f9d97628400>"
            ]
          },
          "metadata": {
            "tags": []
          },
          "execution_count": 7
        }
      ]
    },
    {
      "cell_type": "markdown",
      "metadata": {
        "id": "Z1iBZVQcw_7E",
        "colab_type": "text"
      },
      "source": [
        "### Using SVM"
      ]
    },
    {
      "cell_type": "code",
      "metadata": {
        "id": "TeZzYuTN0HYR",
        "colab_type": "code",
        "colab": {
          "base_uri": "https://localhost:8080/",
          "height": 84
        },
        "outputId": "3e5b4e3c-39e5-443c-cd4d-f45488616fdd"
      },
      "source": [
        "from sklearn.svm import SVC\n",
        "from sklearn.model_selection import train_test_split\n",
        "y = y_train\n",
        "X = X_train/255.0\n",
        "X=X.reshape(X.shape[0],X.shape[1]*X.shape[2]*X.shape[3])\n",
        "\n",
        "X_train, X_test, y_train, y_test=train_test_split(X, y, test_size=0.2, random_state=20)\n",
        "model=SVC()\n",
        "\n",
        "model.fit(X_train, y_train)"
      ],
      "execution_count": 16,
      "outputs": [
        {
          "output_type": "execute_result",
          "data": {
            "text/plain": [
              "SVC(C=1.0, break_ties=False, cache_size=200, class_weight=None, coef0=0.0,\n",
              "    decision_function_shape='ovr', degree=3, gamma='scale', kernel='rbf',\n",
              "    max_iter=-1, probability=False, random_state=None, shrinking=True,\n",
              "    tol=0.001, verbose=False)"
            ]
          },
          "metadata": {
            "tags": []
          },
          "execution_count": 16
        }
      ]
    },
    {
      "cell_type": "code",
      "metadata": {
        "id": "-CC8EAvD1aLq",
        "colab_type": "code",
        "colab": {
          "base_uri": "https://localhost:8080/",
          "height": 34
        },
        "outputId": "17dc3ae7-cb6b-4a54-cede-5d287144e541"
      },
      "source": [
        "y_predict=model.predict(X_test)\n",
        "from sklearn.metrics import accuracy_score\n",
        "accuracy_score(y_test, y_predict)"
      ],
      "execution_count": 17,
      "outputs": [
        {
          "output_type": "execute_result",
          "data": {
            "text/plain": [
              "0.7448405253283302"
            ]
          },
          "metadata": {
            "tags": []
          },
          "execution_count": 17
        }
      ]
    },
    {
      "cell_type": "code",
      "metadata": {
        "id": "qYuY9YFv3TtE",
        "colab_type": "code",
        "colab": {}
      },
      "source": [
        "y_test=model.predict(X_test)"
      ],
      "execution_count": 0,
      "outputs": []
    },
    {
      "cell_type": "code",
      "metadata": {
        "id": "pJSailtSKfAF",
        "colab_type": "code",
        "colab": {}
      },
      "source": [
        "import pandas as pd\n",
        "y_test=pd.DataFrame(y_test)\n",
        "y_test.to_csv('bikram_biswas.csv')\n",
        "!cp bikram_biswas.csv \"drive/My Drive/\""
      ],
      "execution_count": 0,
      "outputs": []
    }
  ]
}